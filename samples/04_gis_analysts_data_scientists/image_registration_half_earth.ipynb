{
 "cells": [
  {
   "cell_type": "markdown",
   "metadata": {},
   "source": [
    "# Registration of Scanned Maps and Species Hotspots onto World Map for Half Earth Project Using Computer Vision\n",
    "The sample code uses Computer Vision techniques to automatically register scanned images of any part of the world onto the world map and hence overlay the species hotspots depicted in the scanned images onto the world map."
   ]
  },
  {
   "cell_type": "markdown",
   "metadata": {},
   "source": [
    "## Pre-requisites\n",
    "OpenCV library: This sample requires installation of OpenCV library. Kindly install OpenCV using the following command:\n",
    "pip install opencv-contrib-python"
   ]
  },
  {
   "cell_type": "markdown",
   "metadata": {},
   "source": [
    "## Data Used\n",
    "The data used for this sample are the scanned images from Half Earth Project and the corresponding species region masks."
   ]
  },
  {
   "cell_type": "markdown",
   "metadata": {},
   "source": [
    "## Defining the constants"
   ]
  },
  {
   "cell_type": "code",
   "execution_count": 1,
   "metadata": {},
   "outputs": [],
   "source": [
    "# Path to the folder where the scanned map images are placed\n",
    "IMAGES_TO_REGISTER_FOLDER = r\"C:\\Users\\ati11038\\Documents\\workspace\\data\\half_earth\\extracted_samples\\extracted_maps\"\n",
    "\n",
    "# Path to the folder where the species region mask images are placed\n",
    "IMAGES_TO_REGISTER_SPECIES_MASKS_FOLDER = r\"C:\\Users\\ati11038\\Documents\\workspace\\data\\half_earth\\extracted_samples\" \\\n",
    "                                          r\"\\extracted_masks\"\n",
    "\n",
    "# File path and filename of world image file \n",
    "WORLD_MAP_IMAGE_PATH = r\"C:\\Users\\ati11038\\Documents\\workspace\\data\\half_earth\\world_map\"\n",
    "WORLD_MAP_IMAGE_NAME = \"map_without_rivers.tif\"\n",
    "\n",
    "# Path to the folder where the outputs need to appear\n",
    "RESULTS_FOLDER = r\"C:\\\\Users\\\\ati11038\\\\Documents\\\\workspace\\\\data\\\\half_earth\\\\results\\\\main\\\\22_4_2020\" \\\n",
    "                 r\"\\\\3\"\n",
    "\n",
    "# Minimum expected IOU of homography transform result with default homography to qualify as improved homography\n",
    "# (float: 0.0 - 1.0)\n",
    "IOU_THRESHOLD_HOMOGRAPHY = 0.85\n",
    "\n",
    "# Minimum expected spread of estimated control points over the scanned image\n",
    "# (float: 0.0 - 1.0)\n",
    "CONTOUR_RECT_AREA_RATIO_THRESHOLD = 0.40\n",
    "\n",
    "# Threshold for maximum allowed distance of control points from the nearest contour point for refinement\n",
    "# (int: 1 - 10) \n",
    "REFINEMENT_DISTANCE_THRESHOLD = 5\n",
    "\n",
    "# Minimum threshold for segmenting mask from species region mask image\n",
    "# (int: 1 - 255)\n",
    "SPECIES_REGION_MASK_THRESHOLD = 50\n",
    "SPECIES_REGION_MASK_VALUE = 255\n",
    "\n",
    "# Upper and lower thresholds for homogenizing query image\n",
    "HOMOGENIZE_UPPER_THRESHOLD = 245\n",
    "HOMOGENIZE_LOWER_THRESHOLD = 180\n",
    "\n",
    "# Boundary values for Latitude and Longitude corresponding to world map image\n",
    "LONGITUDE_EXTREME_LEFT = -180\n",
    "LATITUDE_EXTREME_TOP = 85\n",
    "LONGITUDE_EXTREME_RIGHT = 180\n",
    "LATITUDE_EXTREME_BOTTOM = -85\n",
    "\n",
    "# Maximum number of control points needed \n",
    "MAX_CONTROL_POINTS = 8"
   ]
  },
  {
   "cell_type": "code",
   "execution_count": null,
   "metadata": {},
   "outputs": [],
   "source": []
  }
 ],
 "metadata": {
  "kernelspec": {
   "display_name": "Python 3",
   "language": "python",
   "name": "python3"
  },
  "language_info": {
   "codemirror_mode": {
    "name": "ipython",
    "version": 3
   },
   "file_extension": ".py",
   "mimetype": "text/x-python",
   "name": "python",
   "nbconvert_exporter": "python",
   "pygments_lexer": "ipython3",
   "version": "3.6.9"
  }
 },
 "nbformat": 4,
 "nbformat_minor": 4
}
